{
 "cells": [
  {
   "cell_type": "code",
   "execution_count": 21,
   "metadata": {},
   "outputs": [],
   "source": [
    "import os \n",
    "import glob\n",
    "import cv2\n",
    "\n",
    "from hackathon.evaluate import evaluate_img_dir"
   ]
  },
  {
   "cell_type": "code",
   "execution_count": 2,
   "metadata": {},
   "outputs": [],
   "source": [
    "data_dir = \"../data/rockfish_full\""
   ]
  },
  {
   "cell_type": "code",
   "execution_count": 17,
   "metadata": {},
   "outputs": [],
   "source": [
    "def find_subdirs_with_images(base_dir):\n",
    "    \"\"\"Recursively find subdirectories that contain ims with extension {.tif, .jpg, .png}\"\"\"\n",
    "    inc = [os.path.join(base_dir, f) for f in os.listdir(base_dir) if not f.startswith(\".\")]\n",
    "    ims = [f for f in inc if os.path.isfile(f) if f.endswith(\".tif\") or f.endswith(\".jpg\") or f.endswith(\".png\")]\n",
    "    subdirs = [f for f in inc if os.path.isdir(f)]\n",
    "    \n",
    "    dirs_with_ims = []\n",
    "    if len(ims):\n",
    "        dirs_with_ims.append(base_dir)\n",
    "    \n",
    "    for subdir in subdirs:\n",
    "        dirs_with_ims += find_subdirs_with_images(subdir)\n",
    "    \n",
    "    return dirs_with_ims"
   ]
  },
  {
   "cell_type": "code",
   "execution_count": 19,
   "metadata": {},
   "outputs": [],
   "source": [
    "dirs = find_subdirs_with_images(data_dir)"
   ]
  },
  {
   "cell_type": "code",
   "execution_count": 23,
   "metadata": {},
   "outputs": [],
   "source": [
    "# assumes all ims in a dir are the same resolution\n",
    "for d in dirs:\n",
    "    inc = [os.path.join(d, f) for f in os.listdir(d) if not f.startswith(\".\")]\n",
    "    ims = [f for f in inc if os.path.isfile(f) if f.endswith(\".tif\") or f.endswith(\".jpg\") or f.endswith(\".png\")]\n",
    "    h, w = cv2.imread(ims[0]).shape[:2]\n",
    "    \n",
    "    output_fname = \"\"\n",
    "#     evaluate_img_dir(cfg, d, height=h, width=w, distributed=True, output_fname=output_fname)"
   ]
  },
  {
   "cell_type": "code",
   "execution_count": null,
   "metadata": {},
   "outputs": [],
   "source": []
  }
 ],
 "metadata": {
  "kernelspec": {
   "display_name": "noaa",
   "language": "python",
   "name": "noaa"
  },
  "language_info": {
   "codemirror_mode": {
    "name": "ipython",
    "version": 3
   },
   "file_extension": ".py",
   "mimetype": "text/x-python",
   "name": "python",
   "nbconvert_exporter": "python",
   "pygments_lexer": "ipython3",
   "version": "3.7.9"
  }
 },
 "nbformat": 4,
 "nbformat_minor": 4
}
