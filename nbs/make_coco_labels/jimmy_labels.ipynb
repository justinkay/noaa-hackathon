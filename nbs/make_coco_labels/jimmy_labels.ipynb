{
 "cells": [
  {
   "cell_type": "code",
   "execution_count": 23,
   "metadata": {},
   "outputs": [],
   "source": [
    "import os\n",
    "from PIL import Image\n",
    "import pandas as pd \n",
    "import glob\n",
    "import random as r\n",
    "import tqdm\n",
    "import json"
   ]
  },
  {
   "cell_type": "code",
   "execution_count": 2,
   "metadata": {},
   "outputs": [],
   "source": [
    "loc = \"../data/\"\n",
    "labels = glob.glob(loc + \"**/**/Labeled*/**/*.json\")"
   ]
  },
  {
   "cell_type": "code",
   "execution_count": 63,
   "metadata": {},
   "outputs": [
    {
     "data": {
      "text/plain": [
       "['../data/rockfish_full/SHE-11/Labeled_8_s_1_100/export/8_stbd_1_100_Joy.json',\n",
       " '../data/rockfish_full/SHE-11/Labeled_21_s_1_100/export_1_100/export-2020-12-05T09_49_04.355Z.json',\n",
       " '../data/rockfish_full/SHE-11/Labeled_7_s_101_150/export/export-2020-12-06T06_31_45.283Z.json',\n",
       " '../data/rockfish_full/SHE-11/Labeled_3_p_1_100/export/3_port_1_100.json',\n",
       " '../data/rockfish_full/SHE-11/Labeled_17_p_1_100/export/export-2020-12-06T07_05_18.687Z.json',\n",
       " '../data/rockfish_full/SHE-11/Labeled_11_S_1_100/export/export-2020-12-06T06_37_13.628Z.json',\n",
       " '../data/rockfish_full/SHE-11/Labeled_7_s_1_100/export/export-2020-12-06T06_31_32.231Z.json']"
      ]
     },
     "execution_count": 63,
     "metadata": {},
     "output_type": "execute_result"
    }
   ],
   "source": [
    "labels"
   ]
  },
  {
   "cell_type": "code",
   "execution_count": 71,
   "metadata": {},
   "outputs": [
    {
     "name": "stdout",
     "output_type": "stream",
     "text": [
      "rockfish_full/SHE-11/Labeled_8_s_1_100\n",
      "rockfish_full/SHE-11/Labeled_21_s_1_100\n",
      "rockfish_full/SHE-11/Labeled_7_s_101_150\n",
      "rockfish_full/SHE-11/Labeled_3_p_1_100\n",
      "rockfish_full/SHE-11/Labeled_17_p_1_100\n",
      "rockfish_full/SHE-11/Labeled_11_S_1_100\n",
      "rockfish_full/SHE-11/Labeled_7_s_1_100\n"
     ]
    }
   ],
   "source": [
    "# I want the dirs truncated at \"Labeled_...\"\n",
    "# not sure what the os command is to do what I'm doing here \n",
    "\n",
    "for l in labels:\n",
    "    split_dirs = os.path.dirname(l).split(\"/\")\n",
    "    split_dirs = split_dirs[2:-1]\n",
    "    rejoin = \"/\".join(split_dirs)\n",
    "    print(rejoin)"
   ]
  },
  {
   "cell_type": "code",
   "execution_count": 4,
   "metadata": {},
   "outputs": [
    {
     "name": "stdout",
     "output_type": "stream",
     "text": [
      "650 Total images\n",
      "15128 Total bboxes\n"
     ]
    }
   ],
   "source": [
    "total_ims = 0\n",
    "total_bboxes = 0\n",
    "for l in labels:\n",
    "    label_list = json.load(open(l, \"r\"))\n",
    "    total_ims += len(label_list)\n",
    "    for im in label_list:\n",
    "        bboxes = im['Label']['objects']\n",
    "        total_bboxes += len(bboxes)\n",
    "        \n",
    "print(total_ims, \"Total images\")\n",
    "print(total_bboxes, \"Total bboxes\")"
   ]
  },
  {
   "cell_type": "code",
   "execution_count": 5,
   "metadata": {},
   "outputs": [
    {
     "data": {
      "text/plain": [
       "'20111010.172736.00062_uncropped_rect_color.jpg'"
      ]
     },
     "execution_count": 5,
     "metadata": {},
     "output_type": "execute_result"
    }
   ],
   "source": [
    "label_list[0]['External ID'] # this is the image name"
   ]
  },
  {
   "cell_type": "code",
   "execution_count": 72,
   "metadata": {},
   "outputs": [],
   "source": [
    "def get_image_path(labels_path):\n",
    "    \"\"\"\n",
    "    Takes path to labels and truncates it to path to images.\n",
    "    I need this to append image paths to each image file.\n",
    "    \"\"\"\n",
    "    split_lp = os.path.dirname(labels_path).split(\"/\")\n",
    "    split_lp = split_lp[2:-1]\n",
    "    rejoined = \"/\".join(split_lp)\n",
    "    \n",
    "    return rejoined"
   ]
  },
  {
   "cell_type": "code",
   "execution_count": 73,
   "metadata": {},
   "outputs": [],
   "source": [
    "box_list = []\n",
    "for l in labels:\n",
    "    images_path = get_image_path(l)\n",
    "    label_list = json.load(open(l, \"r\"))\n",
    "    for _, label in enumerate(label_list):\n",
    "        filename = label['External ID']\n",
    "        bboxes = label['Label']['objects']\n",
    "        for box in bboxes:\n",
    "            x_min = box['bbox']['left']\n",
    "            y_min = box['bbox']['top']\n",
    "            x_max = x_min + box['bbox']['width']\n",
    "            y_max = y_min + box['bbox']['height']\n",
    "            box_list.append({\n",
    "                \"x_min\": x_min,\n",
    "                \"x_max\": x_max,\n",
    "                \"y_min\": y_min,\n",
    "                \"y_max\": y_max,\n",
    "                \"filename\": os.path.join(images_path, filename),\n",
    "                \"title\": box['title'],\n",
    "                \"value\": box['value']\n",
    "            })\n",
    "        \n",
    "jimmy_df = pd.DataFrame(box_list)"
   ]
  },
  {
   "cell_type": "code",
   "execution_count": 36,
   "metadata": {},
   "outputs": [
    {
     "data": {
      "text/plain": [
       "Animal                10114\n",
       "animal                 4926\n",
       "No Animal                44\n",
       "no animal                27\n",
       "No Visible Animals       17\n",
       "Name: title, dtype: int64"
      ]
     },
     "execution_count": 36,
     "metadata": {},
     "output_type": "execute_result"
    }
   ],
   "source": [
    "jimmy_df.title.value_counts()"
   ]
  },
  {
   "cell_type": "code",
   "execution_count": 74,
   "metadata": {},
   "outputs": [
    {
     "data": {
      "text/html": [
       "<div>\n",
       "<style scoped>\n",
       "    .dataframe tbody tr th:only-of-type {\n",
       "        vertical-align: middle;\n",
       "    }\n",
       "\n",
       "    .dataframe tbody tr th {\n",
       "        vertical-align: top;\n",
       "    }\n",
       "\n",
       "    .dataframe thead th {\n",
       "        text-align: right;\n",
       "    }\n",
       "</style>\n",
       "<table border=\"1\" class=\"dataframe\">\n",
       "  <thead>\n",
       "    <tr style=\"text-align: right;\">\n",
       "      <th></th>\n",
       "      <th>x_min</th>\n",
       "      <th>x_max</th>\n",
       "      <th>y_min</th>\n",
       "      <th>y_max</th>\n",
       "      <th>filename</th>\n",
       "      <th>title</th>\n",
       "      <th>value</th>\n",
       "    </tr>\n",
       "  </thead>\n",
       "  <tbody>\n",
       "    <tr>\n",
       "      <th>0</th>\n",
       "      <td>702</td>\n",
       "      <td>1380</td>\n",
       "      <td>539</td>\n",
       "      <td>1041</td>\n",
       "      <td>rockfish_full/SHE-11/Labeled_8_s_1_100/2011101...</td>\n",
       "      <td>no animal</td>\n",
       "      <td>no_animal</td>\n",
       "    </tr>\n",
       "    <tr>\n",
       "      <th>1</th>\n",
       "      <td>1166</td>\n",
       "      <td>1298</td>\n",
       "      <td>394</td>\n",
       "      <td>512</td>\n",
       "      <td>rockfish_full/SHE-11/Labeled_8_s_1_100/2011101...</td>\n",
       "      <td>animal</td>\n",
       "      <td>animal</td>\n",
       "    </tr>\n",
       "    <tr>\n",
       "      <th>2</th>\n",
       "      <td>551</td>\n",
       "      <td>704</td>\n",
       "      <td>1189</td>\n",
       "      <td>1347</td>\n",
       "      <td>rockfish_full/SHE-11/Labeled_8_s_1_100/2011101...</td>\n",
       "      <td>animal</td>\n",
       "      <td>animal</td>\n",
       "    </tr>\n",
       "    <tr>\n",
       "      <th>3</th>\n",
       "      <td>1327</td>\n",
       "      <td>1451</td>\n",
       "      <td>1086</td>\n",
       "      <td>1250</td>\n",
       "      <td>rockfish_full/SHE-11/Labeled_8_s_1_100/2011101...</td>\n",
       "      <td>animal</td>\n",
       "      <td>animal</td>\n",
       "    </tr>\n",
       "    <tr>\n",
       "      <th>4</th>\n",
       "      <td>1087</td>\n",
       "      <td>1180</td>\n",
       "      <td>782</td>\n",
       "      <td>877</td>\n",
       "      <td>rockfish_full/SHE-11/Labeled_8_s_1_100/2011101...</td>\n",
       "      <td>animal</td>\n",
       "      <td>animal</td>\n",
       "    </tr>\n",
       "    <tr>\n",
       "      <th>...</th>\n",
       "      <td>...</td>\n",
       "      <td>...</td>\n",
       "      <td>...</td>\n",
       "      <td>...</td>\n",
       "      <td>...</td>\n",
       "      <td>...</td>\n",
       "      <td>...</td>\n",
       "    </tr>\n",
       "    <tr>\n",
       "      <th>15123</th>\n",
       "      <td>1713</td>\n",
       "      <td>1874</td>\n",
       "      <td>1536</td>\n",
       "      <td>1631</td>\n",
       "      <td>rockfish_full/SHE-11/Labeled_7_s_1_100/2011101...</td>\n",
       "      <td>Animal</td>\n",
       "      <td>animal</td>\n",
       "    </tr>\n",
       "    <tr>\n",
       "      <th>15124</th>\n",
       "      <td>1643</td>\n",
       "      <td>1826</td>\n",
       "      <td>1297</td>\n",
       "      <td>1433</td>\n",
       "      <td>rockfish_full/SHE-11/Labeled_7_s_1_100/2011101...</td>\n",
       "      <td>Animal</td>\n",
       "      <td>animal</td>\n",
       "    </tr>\n",
       "    <tr>\n",
       "      <th>15125</th>\n",
       "      <td>1304</td>\n",
       "      <td>1427</td>\n",
       "      <td>665</td>\n",
       "      <td>765</td>\n",
       "      <td>rockfish_full/SHE-11/Labeled_7_s_1_100/2011101...</td>\n",
       "      <td>Animal</td>\n",
       "      <td>animal</td>\n",
       "    </tr>\n",
       "    <tr>\n",
       "      <th>15126</th>\n",
       "      <td>737</td>\n",
       "      <td>943</td>\n",
       "      <td>221</td>\n",
       "      <td>346</td>\n",
       "      <td>rockfish_full/SHE-11/Labeled_7_s_1_100/2011101...</td>\n",
       "      <td>Animal</td>\n",
       "      <td>animal</td>\n",
       "    </tr>\n",
       "    <tr>\n",
       "      <th>15127</th>\n",
       "      <td>506</td>\n",
       "      <td>715</td>\n",
       "      <td>40</td>\n",
       "      <td>138</td>\n",
       "      <td>rockfish_full/SHE-11/Labeled_7_s_1_100/2011101...</td>\n",
       "      <td>Animal</td>\n",
       "      <td>animal</td>\n",
       "    </tr>\n",
       "  </tbody>\n",
       "</table>\n",
       "<p>15128 rows × 7 columns</p>\n",
       "</div>"
      ],
      "text/plain": [
       "       x_min  x_max  y_min  y_max  \\\n",
       "0        702   1380    539   1041   \n",
       "1       1166   1298    394    512   \n",
       "2        551    704   1189   1347   \n",
       "3       1327   1451   1086   1250   \n",
       "4       1087   1180    782    877   \n",
       "...      ...    ...    ...    ...   \n",
       "15123   1713   1874   1536   1631   \n",
       "15124   1643   1826   1297   1433   \n",
       "15125   1304   1427    665    765   \n",
       "15126    737    943    221    346   \n",
       "15127    506    715     40    138   \n",
       "\n",
       "                                                filename      title      value  \n",
       "0      rockfish_full/SHE-11/Labeled_8_s_1_100/2011101...  no animal  no_animal  \n",
       "1      rockfish_full/SHE-11/Labeled_8_s_1_100/2011101...     animal     animal  \n",
       "2      rockfish_full/SHE-11/Labeled_8_s_1_100/2011101...     animal     animal  \n",
       "3      rockfish_full/SHE-11/Labeled_8_s_1_100/2011101...     animal     animal  \n",
       "4      rockfish_full/SHE-11/Labeled_8_s_1_100/2011101...     animal     animal  \n",
       "...                                                  ...        ...        ...  \n",
       "15123  rockfish_full/SHE-11/Labeled_7_s_1_100/2011101...     Animal     animal  \n",
       "15124  rockfish_full/SHE-11/Labeled_7_s_1_100/2011101...     Animal     animal  \n",
       "15125  rockfish_full/SHE-11/Labeled_7_s_1_100/2011101...     Animal     animal  \n",
       "15126  rockfish_full/SHE-11/Labeled_7_s_1_100/2011101...     Animal     animal  \n",
       "15127  rockfish_full/SHE-11/Labeled_7_s_1_100/2011101...     Animal     animal  \n",
       "\n",
       "[15128 rows x 7 columns]"
      ]
     },
     "execution_count": 74,
     "metadata": {},
     "output_type": "execute_result"
    }
   ],
   "source": [
    "jimmy_df"
   ]
  },
  {
   "cell_type": "code",
   "execution_count": 39,
   "metadata": {},
   "outputs": [
    {
     "data": {
      "text/plain": [
       "animal                15040\n",
       "no_animal                71\n",
       "no_visible_animals       17\n",
       "Name: value, dtype: int64"
      ]
     },
     "execution_count": 39,
     "metadata": {},
     "output_type": "execute_result"
    }
   ],
   "source": [
    "jimmy_df.value.value_counts()"
   ]
  },
  {
   "cell_type": "code",
   "execution_count": 75,
   "metadata": {},
   "outputs": [],
   "source": [
    "jimmy_df.to_csv(\"jimmy_labels.csv\", index=False)"
   ]
  },
  {
   "cell_type": "code",
   "execution_count": null,
   "metadata": {},
   "outputs": [],
   "source": []
  }
 ],
 "metadata": {
  "kernelspec": {
   "display_name": "noaa",
   "language": "python",
   "name": "noaa"
  },
  "language_info": {
   "codemirror_mode": {
    "name": "ipython",
    "version": 3
   },
   "file_extension": ".py",
   "mimetype": "text/x-python",
   "name": "python",
   "nbconvert_exporter": "python",
   "pygments_lexer": "ipython3",
   "version": "3.7.8"
  }
 },
 "nbformat": 4,
 "nbformat_minor": 4
}
