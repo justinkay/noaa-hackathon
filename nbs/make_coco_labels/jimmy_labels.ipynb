{
 "cells": [
  {
   "cell_type": "code",
   "execution_count": 1,
   "metadata": {},
   "outputs": [],
   "source": [
    "import os\n",
    "from PIL import Image\n",
    "import pandas as pd \n",
    "import glob\n",
    "import random as r\n",
    "import tqdm\n",
    "import json"
   ]
  },
  {
   "cell_type": "code",
   "execution_count": 2,
   "metadata": {},
   "outputs": [
    {
     "data": {
      "text/plain": [
       "['../../data/rockfish_full/SHE-11/Fish_Crawlers_NonAttached/Labeled_7_251_300/export/export-2020-12-07T06_48_13.484Z.json',\n",
       " '../../data/rockfish_full/SHE-11/Fish_Crawlers_NonAttached/Labeled_3_port_151_200/export/3_port_151_200.json',\n",
       " '../../data/rockfish_full/SHE-11/Fish_Crawlers_NonAttached/Labeled_11_151_200/export/export-2020-12-07T06_18_45.164Z.json',\n",
       " '../../data/rockfish_full/SHE-11/Fish_Crawlers_NonAttached/Labeled_11_251_300/export/export-2020-12-07T06_47_45.271Z.json',\n",
       " '../../data/rockfish_full/SHE-11/Fish_Crawlers_NonAttached/Labeled_3_port_251_300/export/3_port_251_300.json',\n",
       " '../../data/rockfish_full/SHE-11/Fish_Crawlers_NonAttached/Labeled_17_101_150/export/export-2020-12-07T07_18_23.619Z.json',\n",
       " '../../data/rockfish_full/SHE-11/Fish_Crawlers_NonAttached/Labeled_11_101_150/export/export-2020-12-07T06_11_33.304Z.json',\n",
       " '../../data/rockfish_full/SHE-11/Fish_Crawlers_NonAttached/Labeled_7_201_250/export/export-2020-12-07T06_30_50.847Z.json',\n",
       " '../../data/rockfish_full/SHE-11/Fish_Crawlers_NonAttached/Labeled_18_1_100/export/export-2020-12-07T00_38_27.970Z.json',\n",
       " '../../data/rockfish_full/SHE-11/Fish_Crawlers_NonAttached/Labeled_21_1_100/export/export-2020-12-05T09_49_04.355Z.json',\n",
       " '../../data/rockfish_full/SHE-11/Fish_Crawlers_NonAttached/Labeled_12_1_100/export/export-2020-12-07T00_42_00.218Z.json',\n",
       " '../../data/rockfish_full/SHE-11/Fish_Crawlers_NonAttached/Labeled_3_p_101_150/export/3_port_101_150.json',\n",
       " '../../data/rockfish_full/SHE-11/Fish_Crawlers_NonAttached/Labeled_8_101_150/export/8_stbd_101_150.json',\n",
       " '../../data/rockfish_full/SHE-11/Fish_Crawlers_NonAttached/Labeled_3_port_201_250/export/3_port_201_250.json',\n",
       " '../../data/rockfish_full/SHE-11/Fish_Crawlers_NonAttached/Labeled_7_151_200/export/export-2020-12-07T06_16_08.685Z.json',\n",
       " '../../data/rockfish_full/SHE-11/Fish_Crawlers_NonAttached/Labeled_8_151_200/export/8_stbd_151_200.json',\n",
       " '../../data/rockfish_full/SHE-11/Fish_Crawlers_NonAttached/Labeled_17_151_200/export/export-2020-12-07T08_12_29.006Z.json']"
      ]
     },
     "execution_count": 2,
     "metadata": {},
     "output_type": "execute_result"
    }
   ],
   "source": [
    "loc = \"../../data/\"\n",
    "\n",
    "# jsons from fish_crawlers_nonattached\n",
    "fish_crawlers_nonattached_labels = glob.glob(loc + \"rockfish_full/SHE-11/Fish_Crawlers_NonAttached/Labeled*/export*/*.json\")\n",
    "fish_crawlers_nonattached_labels"
   ]
  },
  {
   "cell_type": "code",
   "execution_count": 3,
   "metadata": {},
   "outputs": [
    {
     "data": {
      "text/plain": [
       "['../../data/rockfish_full/SHE-11/Labeled_8_s_1_100/export/8_stbd_1_100_Joy.json',\n",
       " '../../data/rockfish_full/SHE-11/Labeled_21_s_1_100/export_1_100/export-2020-12-05T09_49_04.355Z.json',\n",
       " '../../data/rockfish_full/SHE-11/Labeled_7_s_101_150/export/export-2020-12-06T06_31_45.283Z.json',\n",
       " '../../data/rockfish_full/SHE-11/Labeled_3_p_1_100/export/3_port_1_100.json',\n",
       " '../../data/rockfish_full/SHE-11/Labeled_17_p_1_100/export/export-2020-12-06T07_05_18.687Z.json',\n",
       " '../../data/rockfish_full/SHE-11/Labeled_11_S_1_100/export/export-2020-12-06T06_37_13.628Z.json',\n",
       " '../../data/rockfish_full/SHE-11/Labeled_7_s_1_100/export/export-2020-12-06T06_31_32.231Z.json']"
      ]
     },
     "execution_count": 3,
     "metadata": {},
     "output_type": "execute_result"
    }
   ],
   "source": [
    "# jsons for the directory one level up\n",
    "# labeled_14* is missing but I couldn't find it in the bucket \n",
    "she_11_labels = glob.glob(loc + \"rockfish_full/SHE-11/Labeled_*/export*/*.json\")\n",
    "she_11_labels"
   ]
  },
  {
   "cell_type": "code",
   "execution_count": 4,
   "metadata": {},
   "outputs": [
    {
     "data": {
      "text/plain": [
       "['../../data/rockfish_full/SHE-11/Labeled_21_s_1_100/export_1_100/export-2020-12-05T09_49_04.355Z.json',\n",
       " '../../data/rockfish_full/SHE-11/Labeled_7_s_101_150/export/export-2020-12-06T06_31_45.283Z.json',\n",
       " '../../data/rockfish_full/SHE-11/Labeled_17_p_1_100/export/export-2020-12-06T07_05_18.687Z.json',\n",
       " '../../data/rockfish_full/SHE-11/Labeled_11_S_1_100/export/export-2020-12-06T06_37_13.628Z.json',\n",
       " '../../data/rockfish_full/SHE-11/Labeled_7_s_1_100/export/export-2020-12-06T06_31_32.231Z.json']"
      ]
     },
     "execution_count": 4,
     "metadata": {},
     "output_type": "execute_result"
    }
   ],
   "source": [
    "# remove labeled_8* and _3* from SHE-11 but not from fishcrawlers \n",
    "for l in she_11_labels:\n",
    "    if \"Labeled_8\" in l:\n",
    "        she_11_labels.remove(l)\n",
    "    elif \"Labeled_3\" in l:\n",
    "        she_11_labels.remove(l)\n",
    "    \n",
    "    \n",
    "she_11_labels"
   ]
  },
  {
   "cell_type": "code",
   "execution_count": 5,
   "metadata": {},
   "outputs": [
    {
     "data": {
      "text/plain": [
       "['../../data/rockfish_full/SHE-11/Fish_Crawlers_NonAttached/Labeled_7_251_300/export/export-2020-12-07T06_48_13.484Z.json',\n",
       " '../../data/rockfish_full/SHE-11/Fish_Crawlers_NonAttached/Labeled_3_port_151_200/export/3_port_151_200.json',\n",
       " '../../data/rockfish_full/SHE-11/Fish_Crawlers_NonAttached/Labeled_11_151_200/export/export-2020-12-07T06_18_45.164Z.json',\n",
       " '../../data/rockfish_full/SHE-11/Fish_Crawlers_NonAttached/Labeled_11_251_300/export/export-2020-12-07T06_47_45.271Z.json',\n",
       " '../../data/rockfish_full/SHE-11/Fish_Crawlers_NonAttached/Labeled_3_port_251_300/export/3_port_251_300.json',\n",
       " '../../data/rockfish_full/SHE-11/Fish_Crawlers_NonAttached/Labeled_17_101_150/export/export-2020-12-07T07_18_23.619Z.json',\n",
       " '../../data/rockfish_full/SHE-11/Fish_Crawlers_NonAttached/Labeled_11_101_150/export/export-2020-12-07T06_11_33.304Z.json',\n",
       " '../../data/rockfish_full/SHE-11/Fish_Crawlers_NonAttached/Labeled_7_201_250/export/export-2020-12-07T06_30_50.847Z.json',\n",
       " '../../data/rockfish_full/SHE-11/Fish_Crawlers_NonAttached/Labeled_18_1_100/export/export-2020-12-07T00_38_27.970Z.json',\n",
       " '../../data/rockfish_full/SHE-11/Fish_Crawlers_NonAttached/Labeled_21_1_100/export/export-2020-12-05T09_49_04.355Z.json',\n",
       " '../../data/rockfish_full/SHE-11/Fish_Crawlers_NonAttached/Labeled_12_1_100/export/export-2020-12-07T00_42_00.218Z.json',\n",
       " '../../data/rockfish_full/SHE-11/Fish_Crawlers_NonAttached/Labeled_3_p_101_150/export/3_port_101_150.json',\n",
       " '../../data/rockfish_full/SHE-11/Fish_Crawlers_NonAttached/Labeled_8_101_150/export/8_stbd_101_150.json',\n",
       " '../../data/rockfish_full/SHE-11/Fish_Crawlers_NonAttached/Labeled_3_port_201_250/export/3_port_201_250.json',\n",
       " '../../data/rockfish_full/SHE-11/Fish_Crawlers_NonAttached/Labeled_7_151_200/export/export-2020-12-07T06_16_08.685Z.json',\n",
       " '../../data/rockfish_full/SHE-11/Fish_Crawlers_NonAttached/Labeled_8_151_200/export/8_stbd_151_200.json',\n",
       " '../../data/rockfish_full/SHE-11/Fish_Crawlers_NonAttached/Labeled_17_151_200/export/export-2020-12-07T08_12_29.006Z.json',\n",
       " '../../data/rockfish_full/SHE-11/Labeled_21_s_1_100/export_1_100/export-2020-12-05T09_49_04.355Z.json',\n",
       " '../../data/rockfish_full/SHE-11/Labeled_7_s_101_150/export/export-2020-12-06T06_31_45.283Z.json',\n",
       " '../../data/rockfish_full/SHE-11/Labeled_17_p_1_100/export/export-2020-12-06T07_05_18.687Z.json',\n",
       " '../../data/rockfish_full/SHE-11/Labeled_11_S_1_100/export/export-2020-12-06T06_37_13.628Z.json',\n",
       " '../../data/rockfish_full/SHE-11/Labeled_7_s_1_100/export/export-2020-12-06T06_31_32.231Z.json']"
      ]
     },
     "execution_count": 5,
     "metadata": {},
     "output_type": "execute_result"
    }
   ],
   "source": [
    "labels = fish_crawlers_nonattached_labels + she_11_labels\n",
    "labels"
   ]
  },
  {
   "cell_type": "markdown",
   "metadata": {},
   "source": [
    "4 missing images"
   ]
  },
  {
   "cell_type": "code",
   "execution_count": 6,
   "metadata": {},
   "outputs": [
    {
     "name": "stdout",
     "output_type": "stream",
     "text": [
      "1433 Total images\n",
      "15012 Total bboxes\n",
      "4 missing:  ['20111015.204550.00189_uncropped_rect_color.jpg', '20111012.211108.00037_uncropped_rect_color.jpg', '20111008.171203.00443_uncropped_rect_color.png', '20111015.165052.00593_uncropped_rect_color.jpg']\n"
     ]
    }
   ],
   "source": [
    "total_ims = 0\n",
    "total_bboxes = 0\n",
    "missing = 0\n",
    "missing_ims = []\n",
    "for l in labels:\n",
    "    label_list = json.load(open(l, \"r\"))\n",
    "    total_ims += len(label_list)\n",
    "    for im in label_list:\n",
    "        if 'objects' in im['Label']:\n",
    "            bboxes = im['Label']['objects']\n",
    "            total_bboxes += len(bboxes)\n",
    "        else:\n",
    "            missing += 1\n",
    "            missing_ims.append(im)\n",
    "print(total_ims, \"Total images\")\n",
    "print(total_bboxes, \"Total bboxes\")\n",
    "print(missing, \"missing: \", [im['External ID'] for im in missing_ims])"
   ]
  },
  {
   "cell_type": "code",
   "execution_count": 8,
   "metadata": {},
   "outputs": [],
   "source": [
    "def get_image_path(labels_path):\n",
    "    \"\"\"\n",
    "    Takes path to labels and truncates it to path to images.\n",
    "    I need this to append image paths to each image file.\n",
    "    \"\"\"\n",
    "    split_lp = os.path.dirname(labels_path).split(\"/\")\n",
    "    split_lp = split_lp[2:-1]\n",
    "    rejoined = \"/\".join(split_lp)\n",
    "    \n",
    "    return rejoined"
   ]
  },
  {
   "cell_type": "code",
   "execution_count": 9,
   "metadata": {},
   "outputs": [
    {
     "name": "stdout",
     "output_type": "stream",
     "text": [
      "4 missing\n"
     ]
    }
   ],
   "source": [
    "box_list = []\n",
    "missing = 0\n",
    "for l in labels:\n",
    "    images_path = get_image_path(l)\n",
    "    label_list = json.load(open(l, \"r\"))\n",
    "    for _, label in enumerate(label_list):\n",
    "        filename = label['External ID']\n",
    "        if 'objects' in label['Label']:\n",
    "            bboxes = label['Label']['objects']\n",
    "            for box in bboxes:\n",
    "                x_min = box['bbox']['left']\n",
    "                y_min = box['bbox']['top']\n",
    "                x_max = x_min + box['bbox']['width']\n",
    "                y_max = y_min + box['bbox']['height']\n",
    "                box_list.append({\n",
    "                    \"x_min\": x_min,\n",
    "                    \"x_max\": x_max,\n",
    "                    \"y_min\": y_min,\n",
    "                    \"y_max\": y_max,\n",
    "                    \"filename\": os.path.join(images_path, filename),\n",
    "                    \"title\": box['title'],\n",
    "                    \"value\": box['value']\n",
    "                })\n",
    "        else: missing += 1\n",
    "             \n",
    "\n",
    "print(missing, \"missing\")\n",
    "jimmy_df = pd.DataFrame(box_list)"
   ]
  },
  {
   "cell_type": "code",
   "execution_count": 19,
   "metadata": {},
   "outputs": [],
   "source": [
    "# remove /data from beginning of filename paths\n",
    "def remove_data_from_path(fn):\n",
    "    split_dirs = fn.split(\"/\")\n",
    "    split_dirs = split_dirs[1:]\n",
    "    rejoin = \"/\".join(split_dirs)\n",
    "    \n",
    "    return rejoin"
   ]
  },
  {
   "cell_type": "code",
   "execution_count": 20,
   "metadata": {},
   "outputs": [
    {
     "data": {
      "text/html": [
       "<div>\n",
       "<style scoped>\n",
       "    .dataframe tbody tr th:only-of-type {\n",
       "        vertical-align: middle;\n",
       "    }\n",
       "\n",
       "    .dataframe tbody tr th {\n",
       "        vertical-align: top;\n",
       "    }\n",
       "\n",
       "    .dataframe thead th {\n",
       "        text-align: right;\n",
       "    }\n",
       "</style>\n",
       "<table border=\"1\" class=\"dataframe\">\n",
       "  <thead>\n",
       "    <tr style=\"text-align: right;\">\n",
       "      <th></th>\n",
       "      <th>x_min</th>\n",
       "      <th>x_max</th>\n",
       "      <th>y_min</th>\n",
       "      <th>y_max</th>\n",
       "      <th>filename</th>\n",
       "      <th>title</th>\n",
       "      <th>value</th>\n",
       "    </tr>\n",
       "  </thead>\n",
       "  <tbody>\n",
       "    <tr>\n",
       "      <th>0</th>\n",
       "      <td>244</td>\n",
       "      <td>311</td>\n",
       "      <td>1860</td>\n",
       "      <td>1929</td>\n",
       "      <td>rockfish_full/SHE-11/Fish_Crawlers_NonAttached...</td>\n",
       "      <td>Animal</td>\n",
       "      <td>animal</td>\n",
       "    </tr>\n",
       "    <tr>\n",
       "      <th>1</th>\n",
       "      <td>734</td>\n",
       "      <td>876</td>\n",
       "      <td>705</td>\n",
       "      <td>958</td>\n",
       "      <td>rockfish_full/SHE-11/Fish_Crawlers_NonAttached...</td>\n",
       "      <td>Animal</td>\n",
       "      <td>animal</td>\n",
       "    </tr>\n",
       "    <tr>\n",
       "      <th>2</th>\n",
       "      <td>1030</td>\n",
       "      <td>1221</td>\n",
       "      <td>1119</td>\n",
       "      <td>1233</td>\n",
       "      <td>rockfish_full/SHE-11/Fish_Crawlers_NonAttached...</td>\n",
       "      <td>No Animal</td>\n",
       "      <td>no_animal</td>\n",
       "    </tr>\n",
       "    <tr>\n",
       "      <th>3</th>\n",
       "      <td>1704</td>\n",
       "      <td>1898</td>\n",
       "      <td>823</td>\n",
       "      <td>1020</td>\n",
       "      <td>rockfish_full/SHE-11/Fish_Crawlers_NonAttached...</td>\n",
       "      <td>Animal</td>\n",
       "      <td>animal</td>\n",
       "    </tr>\n",
       "    <tr>\n",
       "      <th>4</th>\n",
       "      <td>1224</td>\n",
       "      <td>1308</td>\n",
       "      <td>966</td>\n",
       "      <td>1106</td>\n",
       "      <td>rockfish_full/SHE-11/Fish_Crawlers_NonAttached...</td>\n",
       "      <td>No Animal</td>\n",
       "      <td>no_animal</td>\n",
       "    </tr>\n",
       "    <tr>\n",
       "      <th>...</th>\n",
       "      <td>...</td>\n",
       "      <td>...</td>\n",
       "      <td>...</td>\n",
       "      <td>...</td>\n",
       "      <td>...</td>\n",
       "      <td>...</td>\n",
       "      <td>...</td>\n",
       "    </tr>\n",
       "    <tr>\n",
       "      <th>15007</th>\n",
       "      <td>1713</td>\n",
       "      <td>1874</td>\n",
       "      <td>1536</td>\n",
       "      <td>1631</td>\n",
       "      <td>rockfish_full/SHE-11/Labeled_7_s_1_100/2011101...</td>\n",
       "      <td>Animal</td>\n",
       "      <td>animal</td>\n",
       "    </tr>\n",
       "    <tr>\n",
       "      <th>15008</th>\n",
       "      <td>1643</td>\n",
       "      <td>1826</td>\n",
       "      <td>1297</td>\n",
       "      <td>1433</td>\n",
       "      <td>rockfish_full/SHE-11/Labeled_7_s_1_100/2011101...</td>\n",
       "      <td>Animal</td>\n",
       "      <td>animal</td>\n",
       "    </tr>\n",
       "    <tr>\n",
       "      <th>15009</th>\n",
       "      <td>1304</td>\n",
       "      <td>1427</td>\n",
       "      <td>665</td>\n",
       "      <td>765</td>\n",
       "      <td>rockfish_full/SHE-11/Labeled_7_s_1_100/2011101...</td>\n",
       "      <td>Animal</td>\n",
       "      <td>animal</td>\n",
       "    </tr>\n",
       "    <tr>\n",
       "      <th>15010</th>\n",
       "      <td>737</td>\n",
       "      <td>943</td>\n",
       "      <td>221</td>\n",
       "      <td>346</td>\n",
       "      <td>rockfish_full/SHE-11/Labeled_7_s_1_100/2011101...</td>\n",
       "      <td>Animal</td>\n",
       "      <td>animal</td>\n",
       "    </tr>\n",
       "    <tr>\n",
       "      <th>15011</th>\n",
       "      <td>506</td>\n",
       "      <td>715</td>\n",
       "      <td>40</td>\n",
       "      <td>138</td>\n",
       "      <td>rockfish_full/SHE-11/Labeled_7_s_1_100/2011101...</td>\n",
       "      <td>Animal</td>\n",
       "      <td>animal</td>\n",
       "    </tr>\n",
       "  </tbody>\n",
       "</table>\n",
       "<p>15012 rows × 7 columns</p>\n",
       "</div>"
      ],
      "text/plain": [
       "       x_min  x_max  y_min  y_max  \\\n",
       "0        244    311   1860   1929   \n",
       "1        734    876    705    958   \n",
       "2       1030   1221   1119   1233   \n",
       "3       1704   1898    823   1020   \n",
       "4       1224   1308    966   1106   \n",
       "...      ...    ...    ...    ...   \n",
       "15007   1713   1874   1536   1631   \n",
       "15008   1643   1826   1297   1433   \n",
       "15009   1304   1427    665    765   \n",
       "15010    737    943    221    346   \n",
       "15011    506    715     40    138   \n",
       "\n",
       "                                                filename      title      value  \n",
       "0      rockfish_full/SHE-11/Fish_Crawlers_NonAttached...     Animal     animal  \n",
       "1      rockfish_full/SHE-11/Fish_Crawlers_NonAttached...     Animal     animal  \n",
       "2      rockfish_full/SHE-11/Fish_Crawlers_NonAttached...  No Animal  no_animal  \n",
       "3      rockfish_full/SHE-11/Fish_Crawlers_NonAttached...     Animal     animal  \n",
       "4      rockfish_full/SHE-11/Fish_Crawlers_NonAttached...  No Animal  no_animal  \n",
       "...                                                  ...        ...        ...  \n",
       "15007  rockfish_full/SHE-11/Labeled_7_s_1_100/2011101...     Animal     animal  \n",
       "15008  rockfish_full/SHE-11/Labeled_7_s_1_100/2011101...     Animal     animal  \n",
       "15009  rockfish_full/SHE-11/Labeled_7_s_1_100/2011101...     Animal     animal  \n",
       "15010  rockfish_full/SHE-11/Labeled_7_s_1_100/2011101...     Animal     animal  \n",
       "15011  rockfish_full/SHE-11/Labeled_7_s_1_100/2011101...     Animal     animal  \n",
       "\n",
       "[15012 rows x 7 columns]"
      ]
     },
     "execution_count": 20,
     "metadata": {},
     "output_type": "execute_result"
    }
   ],
   "source": [
    "jimmy_df['filename'] = jimmy_df.filename.apply(remove_data_from_path)\n",
    "\n",
    "jimmy_df"
   ]
  },
  {
   "cell_type": "code",
   "execution_count": 21,
   "metadata": {},
   "outputs": [],
   "source": [
    "jimmy_df.to_csv(\"jimmy_labels_fixed.csv\", index=False)"
   ]
  },
  {
   "cell_type": "code",
   "execution_count": null,
   "metadata": {},
   "outputs": [],
   "source": []
  }
 ],
 "metadata": {
  "kernelspec": {
   "display_name": "noaa",
   "language": "python",
   "name": "noaa"
  },
  "language_info": {
   "codemirror_mode": {
    "name": "ipython",
    "version": 3
   },
   "file_extension": ".py",
   "mimetype": "text/x-python",
   "name": "python",
   "nbconvert_exporter": "python",
   "pygments_lexer": "ipython3",
   "version": "3.7.8"
  }
 },
 "nbformat": 4,
 "nbformat_minor": 4
}
