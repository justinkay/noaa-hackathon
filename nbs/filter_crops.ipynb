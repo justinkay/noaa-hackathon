{
 "cells": [
  {
   "cell_type": "code",
   "execution_count": 1,
   "metadata": {},
   "outputs": [],
   "source": [
    "import pandas as pd\n",
    "import shutil"
   ]
  },
  {
   "cell_type": "code",
   "execution_count": 8,
   "metadata": {},
   "outputs": [],
   "source": [
    "crops_dir = \"./x152_crops_05_orig/\"\n",
    "crop_csv = \"x152_crops.csv\""
   ]
  },
  {
   "cell_type": "code",
   "execution_count": 3,
   "metadata": {},
   "outputs": [
    {
     "data": {
      "text/plain": [
       "266190"
      ]
     },
     "execution_count": 3,
     "metadata": {},
     "output_type": "execute_result"
    }
   ],
   "source": [
    "df = pd.read_csv(crops_dir + crop_csv)\n",
    "len(df.crop_name.unique())"
   ]
  },
  {
   "cell_type": "code",
   "execution_count": 6,
   "metadata": {},
   "outputs": [
    {
     "name": "stderr",
     "output_type": "stream",
     "text": [
      "100%|██████████| 153607/153607 [01:41<00:00, 1518.96it/s]\n"
     ]
    }
   ],
   "source": [
    "c80 = df[df.detection_confidence > 0.8]\n",
    "c80.to_csv(\"./x152_crops_08/x152_crops_08.csv\")\n",
    "from tqdm import tqdm\n",
    "for f in tqdm(c80.crop_name.unique()):\n",
    "    shutil.copy(crops_dir + f, \"./x152_crops_08/\"+f+\".jpg\")"
   ]
  },
  {
   "cell_type": "code",
   "execution_count": 24,
   "metadata": {},
   "outputs": [
    {
     "data": {
      "text/plain": [
       "73100"
      ]
     },
     "execution_count": 24,
     "metadata": {},
     "output_type": "execute_result"
    }
   ],
   "source": [
    "c90 = df[df.detection_confidence > 0.9]\n",
    "c90.to_csv(\"./x152_crops_09/x152_crops_09.csv\")\n",
    "for f in tqdm(c90.crop_name):\n",
    "    shutil.copy(crops_dir + f, \"./x152_crops_09/\"+f+\".jpg\")"
   ]
  },
  {
   "cell_type": "code",
   "execution_count": 9,
   "metadata": {},
   "outputs": [
    {
     "name": "stderr",
     "output_type": "stream",
     "text": [
      "100%|██████████| 421072/421072 [02:00<00:00, 3488.43it/s]\n"
     ]
    }
   ],
   "source": [
    "c50 = df[df.detection_confidence > 0.5]\n",
    "c50.to_csv(\"./x152_crops_05/x152_crops_05.csv\")\n",
    "for f in tqdm(c50.crop_name):\n",
    "    shutil.copy(crops_dir + f, \"./x152_crops_05/\"+f+\".jpg\")"
   ]
  },
  {
   "cell_type": "code",
   "execution_count": null,
   "metadata": {},
   "outputs": [],
   "source": []
  }
 ],
 "metadata": {
  "kernelspec": {
   "display_name": "noaa",
   "language": "python",
   "name": "noaa"
  },
  "language_info": {
   "codemirror_mode": {
    "name": "ipython",
    "version": 3
   },
   "file_extension": ".py",
   "mimetype": "text/x-python",
   "name": "python",
   "nbconvert_exporter": "python",
   "pygments_lexer": "ipython3",
   "version": "3.7.9"
  }
 },
 "nbformat": 4,
 "nbformat_minor": 4
}
