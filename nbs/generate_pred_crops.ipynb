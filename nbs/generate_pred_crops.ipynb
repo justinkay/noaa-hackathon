{
 "cells": [
  {
   "cell_type": "code",
   "execution_count": 56,
   "metadata": {},
   "outputs": [],
   "source": [
    "import glob\n",
    "import torch\n",
    "import json\n",
    "from PIL import Image\n",
    "import random\n",
    "import pandas as pd"
   ]
  },
  {
   "cell_type": "code",
   "execution_count": 57,
   "metadata": {},
   "outputs": [],
   "source": [
    "data_dir = \"../data/rockfish_full/\"\n",
    "model_name = \"x152\" # from predict._MODELS\n",
    "device = torch.device(\"cpu\")\n",
    "\n",
    "crops_dir = \"./x152_crops/\""
   ]
  },
  {
   "cell_type": "code",
   "execution_count": 58,
   "metadata": {},
   "outputs": [
    {
     "data": {
      "text/plain": [
       "62"
      ]
     },
     "execution_count": 58,
     "metadata": {},
     "output_type": "execute_result"
    }
   ],
   "source": [
    "pths = glob.glob(data_dir + \"**/*.pth\", recursive=True)\n",
    "pths = [p for p in list(pths) if model_name in p]\n",
    "len(pths)"
   ]
  },
  {
   "cell_type": "code",
   "execution_count": 59,
   "metadata": {},
   "outputs": [],
   "source": [
    "table = [] # filepath\n",
    "\n",
    "num_images = 0\n",
    "num_boxes = 0\n",
    "num_valid = 0\n",
    "num_invalid = 0\n",
    "empty_images = 0\n",
    "\n",
    "for p in pths:\n",
    "    loaded = torch.load(p, map_location=device)\n",
    "    for im in loaded:\n",
    "        im = random.choice(loaded)\n",
    "        img = Image.open(im['file_name'])\n",
    "        filename = im['file_name'].replace(\"../data/\", \"\")\n",
    "        boxes = im['instances'].pred_boxes\n",
    "        confs = im['instances'].scores.tolist()\n",
    "        num_boxes += len(boxes)\n",
    "        num_images += 1\n",
    "        \n",
    "        if len(boxes):\n",
    "            for i, bbox in enumerate(boxes):\n",
    "                bbox = bbox.tolist()\n",
    "                width = bbox[2] - bbox[0]\n",
    "                if width < 1000:\n",
    "                    crop_name = filename.replace(\"/\", \"-\") + \"_\" + str(i)\n",
    "                    cr = img.crop(tuple(bbox))\n",
    "                    cr.save(crops_dir + crop_name, \"JPEG\")\n",
    "                    table.append({\n",
    "                        \"file_name\": filename,\n",
    "                        \"xmin\": bbox[0],\n",
    "                        \"ymin\": bbox[1],\n",
    "                        \"xmax\": bbox[2],\n",
    "                        \"ymax\": bbox[3],\n",
    "                        \"bbox_id\": i,\n",
    "                        \"detection_confidence\": confs[i],\n",
    "                        \"crop_name\": crop_name\n",
    "                    })\n",
    "                    num_valid += 1\n",
    "                else:\n",
    "                    num_invalid += 1\n",
    "        else:\n",
    "            empty_images += 1"
   ]
  },
  {
   "cell_type": "code",
   "execution_count": 64,
   "metadata": {},
   "outputs": [
    {
     "data": {
      "text/plain": [
       "array(['rockfish_full/RL-16_06/d20161027_7/stbd/stbd_rectified/20161027.192507.02388_rect_color.jpg',\n",
       "       'rockfish_full/RL-16_06/d20161027_7/stbd/stbd_rectified/20161027.192507.02388_rect_color.jpg',\n",
       "       'rockfish_full/RL-16_06/d20161027_7/stbd/stbd_rectified/20161027.192507.02388_rect_color.jpg',\n",
       "       'rockfish_full/RL-16_06/d20161027_7/stbd/stbd_rectified/20161027.192507.02388_rect_color.jpg',\n",
       "       'rockfish_full/RL-16_06/d20161027_7/stbd/stbd_rectified/20161027.192507.02388_rect_color.jpg',\n",
       "       'rockfish_full/RL-16_06/d20161027_7/stbd/stbd_rectified/20161027.192507.02388_rect_color.jpg',\n",
       "       'rockfish_full/RL-16_06/d20161027_7/stbd/stbd_rectified/20161027.190755.02001_rect_color.jpg',\n",
       "       'rockfish_full/RL-16_06/d20161027_7/stbd/stbd_rectified/20161027.190755.02001_rect_color.jpg',\n",
       "       'rockfish_full/RL-16_06/d20161027_7/stbd/stbd_rectified/20161027.175042.00264_rect_color.jpg',\n",
       "       'rockfish_full/RL-16_06/d20161027_7/stbd/stbd_rectified/20161027.175042.00264_rect_color.jpg',\n",
       "       'rockfish_full/RL-16_06/d20161027_7/stbd/stbd_rectified/20161027.175042.00264_rect_color.jpg',\n",
       "       'rockfish_full/RL-16_06/d20161027_7/stbd/stbd_rectified/20161027.175042.00264_rect_color.jpg',\n",
       "       'rockfish_full/RL-16_06/d20161027_7/stbd/stbd_rectified/20161027.175042.00264_rect_color.jpg',\n",
       "       'rockfish_full/RL-16_06/d20161027_7/stbd/stbd_rectified/20161027.175042.00264_rect_color.jpg',\n",
       "       'rockfish_full/RL-16_06/d20161027_7/stbd/stbd_rectified/20161027.175042.00264_rect_color.jpg',\n",
       "       'rockfish_full/RL-16_06/d20161027_7/stbd/stbd_rectified/20161027.175042.00264_rect_color.jpg',\n",
       "       'rockfish_full/RL-16_06/d20161027_7/stbd/stbd_rectified/20161027.175042.00264_rect_color.jpg',\n",
       "       'rockfish_full/RL-16_06/d20161027_7/stbd/stbd_rectified/20161027.175042.00264_rect_color.jpg',\n",
       "       'rockfish_full/RL-16_06/d20161027_7/stbd/stbd_rectified/20161027.175042.00264_rect_color.jpg',\n",
       "       'rockfish_full/RL-16_06/d20161027_7/stbd/stbd_rectified/20161027.175042.00264_rect_color.jpg',\n",
       "       'rockfish_full/RL-16_06/d20161027_7/stbd/stbd_rectified/20161027.175042.00264_rect_color.jpg',\n",
       "       'rockfish_full/RL-16_06/d20161027_7/stbd/stbd_rectified/20161027.175042.00264_rect_color.jpg',\n",
       "       'rockfish_full/RL-16_06/d20161027_7/stbd/stbd_rectified/20161027.175042.00264_rect_color.jpg',\n",
       "       'rockfish_full/RL-16_06/d20161027_7/stbd/stbd_rectified/20161027.175042.00264_rect_color.jpg',\n",
       "       'rockfish_full/RL-16_06/d20161027_7/stbd/stbd_rectified/20161027.175042.00264_rect_color.jpg',\n",
       "       'rockfish_full/RL-16_06/d20161027_7/stbd/stbd_rectified/20161027.175042.00264_rect_color.jpg',\n",
       "       'rockfish_full/RL-16_06/d20161027_7/stbd/stbd_rectified/20161027.175042.00264_rect_color.jpg',\n",
       "       'rockfish_full/RL-16_06/d20161027_7/stbd/stbd_rectified/20161027.175042.00264_rect_color.jpg',\n",
       "       'rockfish_full/RL-16_06/d20161027_7/stbd/stbd_rectified/20161027.175042.00264_rect_color.jpg',\n",
       "       'rockfish_full/RL-16_06/d20161027_7/stbd/stbd_rectified/20161027.194331.02802_rect_color.jpg',\n",
       "       'rockfish_full/RL-16_06/d20161027_7/stbd/stbd_rectified/20161027.194331.02802_rect_color.jpg',\n",
       "       'rockfish_full/RL-16_06/d20161027_7/stbd/stbd_rectified/20161027.194331.02802_rect_color.jpg',\n",
       "       'rockfish_full/RL-16_06/d20161027_7/stbd/stbd_rectified/20161027.194331.02802_rect_color.jpg',\n",
       "       'rockfish_full/RL-16_06/d20161027_7/stbd/stbd_rectified/20161027.194331.02802_rect_color.jpg',\n",
       "       'rockfish_full/RL-16_06/d20161027_7/stbd/stbd_rectified/20161027.194331.02802_rect_color.jpg',\n",
       "       'rockfish_full/RL-16_06/d20161027_7/stbd/stbd_rectified/20161027.194331.02802_rect_color.jpg',\n",
       "       'rockfish_full/RL-16_06/d20161027_7/stbd/stbd_rectified/20161027.194331.02802_rect_color.jpg',\n",
       "       'rockfish_full/RL-16_06/d20161027_7/stbd/stbd_rectified/20161027.181210.00747_rect_color.jpg',\n",
       "       'rockfish_full/RL-16_06/d20161027_7/stbd/stbd_rectified/20161027.181210.00747_rect_color.jpg',\n",
       "       'rockfish_full/RL-16_06/d20161027_7/stbd/stbd_rectified/20161027.181210.00747_rect_color.jpg',\n",
       "       'rockfish_full/RL-16_06/d20161027_7/stbd/stbd_rectified/20161027.181210.00747_rect_color.jpg',\n",
       "       'rockfish_full/RL-16_06/d20161027_7/stbd/stbd_rectified/20161027.181210.00747_rect_color.jpg',\n",
       "       'rockfish_full/RL-16_06/d20161027_7/stbd/stbd_rectified/20161027.181210.00747_rect_color.jpg',\n",
       "       'rockfish_full/RL-16_06/d20161027_7/stbd/stbd_rectified/20161027.175050.00267_rect_color.jpg',\n",
       "       'rockfish_full/RL-16_06/d20161027_7/stbd/stbd_rectified/20161027.175050.00267_rect_color.jpg',\n",
       "       'rockfish_full/RL-16_06/d20161027_7/stbd/stbd_rectified/20161027.175050.00267_rect_color.jpg',\n",
       "       'rockfish_full/RL-16_06/d20161027_7/stbd/stbd_rectified/20161027.175050.00267_rect_color.jpg',\n",
       "       'rockfish_full/RL-16_06/d20161027_7/stbd/stbd_rectified/20161027.175050.00267_rect_color.jpg',\n",
       "       'rockfish_full/RL-16_06/d20161027_7/stbd/stbd_rectified/20161027.175050.00267_rect_color.jpg',\n",
       "       'rockfish_full/RL-16_06/d20161027_7/stbd/stbd_rectified/20161027.175050.00267_rect_color.jpg',\n",
       "       'rockfish_full/RL-16_06/d20161027_7/stbd/stbd_rectified/20161027.175050.00267_rect_color.jpg',\n",
       "       'rockfish_full/RL-16_06/d20161027_7/stbd/stbd_rectified/20161027.182834.01116_rect_color.jpg',\n",
       "       'rockfish_full/RL-16_06/d20161027_7/stbd/stbd_rectified/20161027.182834.01116_rect_color.jpg',\n",
       "       'rockfish_full/RL-16_06/d20161027_7/stbd/stbd_rectified/20161027.182834.01116_rect_color.jpg',\n",
       "       'rockfish_full/RL-16_06/d20161027_7/stbd/stbd_rectified/20161027.182834.01116_rect_color.jpg',\n",
       "       'rockfish_full/RL-16_06/d20161027_7/stbd/stbd_rectified/20161027.182834.01116_rect_color.jpg',\n",
       "       'rockfish_full/RL-16_06/d20161027_7/stbd/stbd_rectified/20161027.182834.01116_rect_color.jpg',\n",
       "       'rockfish_full/RL-16_06/d20161027_7/stbd/stbd_rectified/20161027.182834.01116_rect_color.jpg',\n",
       "       'rockfish_full/RL-16_06/d20161027_7/stbd/stbd_rectified/20161027.182834.01116_rect_color.jpg',\n",
       "       'rockfish_full/RL-16_06/d20161027_7/stbd/stbd_rectified/20161027.182834.01116_rect_color.jpg',\n",
       "       'rockfish_full/RL-16_06/d20161027_7/stbd/stbd_rectified/20161027.184418.01470_rect_color.jpg',\n",
       "       'rockfish_full/RL-16_06/d20161027_7/stbd/stbd_rectified/20161027.175354.00336_rect_color.jpg',\n",
       "       'rockfish_full/RL-16_06/d20161027_7/stbd/stbd_rectified/20161027.175354.00336_rect_color.jpg',\n",
       "       'rockfish_full/RL-16_06/d20161027_7/stbd/stbd_rectified/20161027.175354.00336_rect_color.jpg',\n",
       "       'rockfish_full/RL-16_06/d20161027_7/stbd/stbd_rectified/20161027.175354.00336_rect_color.jpg',\n",
       "       'rockfish_full/RL-16_06/d20161027_7/stbd/stbd_rectified/20161027.175354.00336_rect_color.jpg',\n",
       "       'rockfish_full/RL-16_06/d20161027_7/stbd/stbd_rectified/20161027.175650.00402_rect_color.jpg',\n",
       "       'rockfish_full/RL-16_06/d20161027_7/stbd/stbd_rectified/20161027.175650.00402_rect_color.jpg',\n",
       "       'rockfish_full/RL-16_06/d20161027_7/stbd/stbd_rectified/20161027.193347.02583_rect_color.jpg',\n",
       "       'rockfish_full/RL-16_06/d20161027_7/stbd/stbd_rectified/20161027.193347.02583_rect_color.jpg',\n",
       "       'rockfish_full/RL-16_06/d20161027_7/stbd/stbd_rectified/20161027.193347.02583_rect_color.jpg',\n",
       "       'rockfish_full/RL-16_06/d20161027_7/stbd/stbd_rectified/20161027.193347.02583_rect_color.jpg',\n",
       "       'rockfish_full/RL-16_06/d20161027_7/stbd/stbd_rectified/20161027.193547.02628_rect_color.jpg',\n",
       "       'rockfish_full/RL-16_06/d20161027_7/stbd/stbd_rectified/20161027.193547.02628_rect_color.jpg',\n",
       "       'rockfish_full/RL-16_06/d20161027_7/stbd/stbd_rectified/20161027.193547.02628_rect_color.jpg',\n",
       "       'rockfish_full/RL-16_06/d20161027_7/stbd/stbd_rectified/20161027.193547.02628_rect_color.jpg',\n",
       "       'rockfish_full/RL-16_06/d20161027_7/stbd/stbd_rectified/20161027.193547.02628_rect_color.jpg',\n",
       "       'rockfish_full/RL-16_06/d20161027_7/stbd/stbd_rectified/20161027.193547.02628_rect_color.jpg',\n",
       "       'rockfish_full/RL-16_06/d20161027_7/stbd/stbd_rectified/20161027.193547.02628_rect_color.jpg',\n",
       "       'rockfish_full/RL-16_06/d20161027_7/stbd/stbd_rectified/20161027.193547.02628_rect_color.jpg',\n",
       "       'rockfish_full/RL-16_06/d20161027_7/stbd/stbd_rectified/20161027.193547.02628_rect_color.jpg',\n",
       "       'rockfish_full/RL-16_06/d20161027_7/stbd/stbd_rectified/20161027.193547.02628_rect_color.jpg',\n",
       "       'rockfish_full/RL-16_06/d20161027_7/stbd/stbd_rectified/20161027.193547.02628_rect_color.jpg',\n",
       "       'rockfish_full/RL-16_06/d20161027_7/stbd/stbd_rectified/20161027.193547.02628_rect_color.jpg',\n",
       "       'rockfish_full/RL-16_06/d20161027_7/stbd/stbd_rectified/20161027.193547.02628_rect_color.jpg',\n",
       "       'rockfish_full/RL-16_06/d20161027_7/stbd/stbd_rectified/20161027.193547.02628_rect_color.jpg',\n",
       "       'rockfish_full/RL-16_06/d20161027_7/stbd/stbd_rectified/20161027.175402.00339_rect_color.jpg',\n",
       "       'rockfish_full/RL-16_06/d20161027_7/stbd/stbd_rectified/20161027.175402.00339_rect_color.jpg',\n",
       "       'rockfish_full/RL-16_06/d20161027_7/stbd/stbd_rectified/20161027.183114.01176_rect_color.jpg',\n",
       "       'rockfish_full/RL-16_06/d20161027_7/stbd/stbd_rectified/20161027.183114.01176_rect_color.jpg',\n",
       "       'rockfish_full/RL-16_06/d20161027_7/stbd/stbd_rectified/20161027.183114.01176_rect_color.jpg',\n",
       "       'rockfish_full/RL-16_06/d20161027_7/stbd/stbd_rectified/20161027.183114.01176_rect_color.jpg',\n",
       "       'rockfish_full/RL-16_06/d20161027_7/stbd/stbd_rectified/20161027.183114.01176_rect_color.jpg',\n",
       "       'rockfish_full/RL-16_06/d20161027_7/stbd/stbd_rectified/20161027.183114.01176_rect_color.jpg',\n",
       "       'rockfish_full/RL-16_06/d20161027_7/stbd/stbd_rectified/20161027.183114.01176_rect_color.jpg',\n",
       "       'rockfish_full/RL-16_06/d20161027_7/stbd/stbd_rectified/20161027.183114.01176_rect_color.jpg',\n",
       "       'rockfish_full/RL-16_06/d20161027_7/stbd/stbd_rectified/20161027.183114.01176_rect_color.jpg',\n",
       "       'rockfish_full/RL-16_06/d20161027_7/stbd/stbd_rectified/20161027.181138.00735_rect_color.jpg',\n",
       "       'rockfish_full/RL-16_06/d20161027_7/stbd/stbd_rectified/20161027.181138.00735_rect_color.jpg',\n",
       "       'rockfish_full/RL-16_06/d20161027_7/stbd/stbd_rectified/20161027.181138.00735_rect_color.jpg'],\n",
       "      dtype=object)"
      ]
     },
     "execution_count": 64,
     "metadata": {},
     "output_type": "execute_result"
    }
   ],
   "source": [
    "df = pd.DataFrame(table)\n",
    "df.head(n=100).file_name.values"
   ]
  },
  {
   "cell_type": "code",
   "execution_count": 62,
   "metadata": {},
   "outputs": [
    {
     "name": "stdout",
     "output_type": "stream",
     "text": [
      "num_images 57468\n",
      "num_boxes 421958\n"
     ]
    }
   ],
   "source": [
    "print(\"num_images\", num_images)\n",
    "print(\"num_boxes\", num_boxes)"
   ]
  },
  {
   "cell_type": "code",
   "execution_count": 61,
   "metadata": {},
   "outputs": [],
   "source": [
    "df.to_csv(crops_dir + \"x152_crops.csv\")"
   ]
  },
  {
   "cell_type": "code",
   "execution_count": null,
   "metadata": {},
   "outputs": [],
   "source": []
  }
 ],
 "metadata": {
  "kernelspec": {
   "display_name": "noaa",
   "language": "python",
   "name": "noaa"
  },
  "language_info": {
   "codemirror_mode": {
    "name": "ipython",
    "version": 3
   },
   "file_extension": ".py",
   "mimetype": "text/x-python",
   "name": "python",
   "nbconvert_exporter": "python",
   "pygments_lexer": "ipython3",
   "version": "3.7.9"
  }
 },
 "nbformat": 4,
 "nbformat_minor": 4
}
