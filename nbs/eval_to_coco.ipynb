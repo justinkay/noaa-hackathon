{
 "cells": [
  {
   "cell_type": "code",
   "execution_count": 31,
   "metadata": {},
   "outputs": [],
   "source": [
    "import glob\n",
    "import torch\n",
    "import json\n",
    "\n",
    "from detectron2.evaluation.coco_evaluation import instances_to_coco_json"
   ]
  },
  {
   "cell_type": "code",
   "execution_count": 2,
   "metadata": {},
   "outputs": [],
   "source": [
    "data_dir = \"../data/rockfish_full/\""
   ]
  },
  {
   "cell_type": "code",
   "execution_count": 29,
   "metadata": {},
   "outputs": [
    {
     "data": {
      "text/plain": [
       "7"
      ]
     },
     "execution_count": 29,
     "metadata": {},
     "output_type": "execute_result"
    }
   ],
   "source": [
    "pths = glob.glob(data_dir + \"**/*.pth\", recursive=True)\n",
    "len(pths)"
   ]
  },
  {
   "cell_type": "code",
   "execution_count": null,
   "metadata": {},
   "outputs": [],
   "source": [
    "for pth in pths:\n",
    "    loaded = torch.load(pth)\n",
    "    \n",
    "    ims = []\n",
    "    annos = []\n",
    "\n",
    "    for im in loaded:\n",
    "        ims.append({\n",
    "                'file_name': im['file_name'],\n",
    "                'id': im['file_name'],\n",
    "                'height': im[\"instances\"]._image_size[0],\n",
    "                'width': im[\"instances\"]._image_size[1]\n",
    "            })\n",
    "\n",
    "        instances = instances_to_coco_json(im['instances'], im['file_name'])\n",
    "        annos += instances\n",
    "\n",
    "    print(pth, \"ims\", len(ims))\n",
    "    print(pth, \"annos\", len(annos))\n",
    "    \n",
    "    full_coco = { 'info': {},\n",
    "                 'licenses': [],\n",
    "                 'categories': [ { \"supercategory\": \"THING\", \"id\": 1 , \"name\": \"THING\" }],\n",
    "                 'images:': ims,\n",
    "                 'annotations': annos\n",
    "                }\n",
    "    \n",
    "    output_fname = pth[:-4] + \"_coco.json\"\n",
    "    json.dump(full_coco, open(output_fname, \"w\"))"
   ]
  }
 ],
 "metadata": {
  "kernelspec": {
   "display_name": "noaa",
   "language": "python",
   "name": "noaa"
  },
  "language_info": {
   "codemirror_mode": {
    "name": "ipython",
    "version": 3
   },
   "file_extension": ".py",
   "mimetype": "text/x-python",
   "name": "python",
   "nbconvert_exporter": "python",
   "pygments_lexer": "ipython3",
   "version": "3.7.9"
  }
 },
 "nbformat": 4,
 "nbformat_minor": 4
}
