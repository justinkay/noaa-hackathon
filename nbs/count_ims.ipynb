{
 "cells": [
  {
   "cell_type": "code",
   "execution_count": 2,
   "metadata": {},
   "outputs": [],
   "source": [
    "import glob"
   ]
  },
  {
   "cell_type": "code",
   "execution_count": 4,
   "metadata": {},
   "outputs": [],
   "source": [
    "data = \"../data/rockfish_full/\""
   ]
  },
  {
   "cell_type": "code",
   "execution_count": 3,
   "metadata": {},
   "outputs": [
    {
     "data": {
      "text/plain": [
       "44271"
      ]
     },
     "execution_count": 3,
     "metadata": {},
     "output_type": "execute_result"
    }
   ],
   "source": [
    "jpgs = set([ f for f in list(glob.glob(data + \"/**/*.jpg\", recursive=True)) if not 'Labeled' in f and not 'Fish_Crawlers_NonAttached' in f ])\n",
    "len(jpgs)"
   ]
  },
  {
   "cell_type": "code",
   "execution_count": 4,
   "metadata": {},
   "outputs": [
    {
     "data": {
      "text/plain": [
       "9650"
      ]
     },
     "execution_count": 4,
     "metadata": {},
     "output_type": "execute_result"
    }
   ],
   "source": [
    "tifs = set([ f for f in list(glob.glob(data + \"/**/*.tif\", recursive=True)) if not 'Labeled' in f and not 'Fish_Crawlers_NonAttached' in f ])\n",
    "len(tifs)"
   ]
  },
  {
   "cell_type": "code",
   "execution_count": 5,
   "metadata": {},
   "outputs": [
    {
     "data": {
      "text/plain": [
       "1"
      ]
     },
     "execution_count": 5,
     "metadata": {},
     "output_type": "execute_result"
    }
   ],
   "source": [
    "pngs = set([ f for f in list(glob.glob(data + \"/**/*.png\", recursive=True)) if not 'Labeled' in f and not 'Fish_Crawlers_NonAttached' in f ])\n",
    "len(pngs)"
   ]
  },
  {
   "cell_type": "markdown",
   "metadata": {},
   "source": [
    "----\n",
    "\n",
    "### Jimmy second night\n"
   ]
  },
  {
   "cell_type": "code",
   "execution_count": 5,
   "metadata": {},
   "outputs": [
    {
     "data": {
      "text/plain": [
       "799"
      ]
     },
     "execution_count": 5,
     "metadata": {},
     "output_type": "execute_result"
    }
   ],
   "source": [
    "jpgs = set([ f for f in list(glob.glob(data + \"/**/*.jpg\", recursive=True)) if 'Fish_Crawlers_NonAttached' in f ])\n",
    "len(jpgs)"
   ]
  },
  {
   "cell_type": "code",
   "execution_count": 9,
   "metadata": {},
   "outputs": [
    {
     "data": {
      "text/plain": [
       "0"
      ]
     },
     "execution_count": 9,
     "metadata": {},
     "output_type": "execute_result"
    }
   ],
   "source": [
    "tifs = set([ f for f in list(glob.glob(data + \"/**/*.tif\", recursive=True)) if 'Fish_Crawlers_NonAttached' in f ])\n",
    "len(tifs)"
   ]
  },
  {
   "cell_type": "code",
   "execution_count": 8,
   "metadata": {},
   "outputs": [
    {
     "data": {
      "text/plain": [
       "1"
      ]
     },
     "execution_count": 8,
     "metadata": {},
     "output_type": "execute_result"
    }
   ],
   "source": [
    "pngs = set([ f for f in list(glob.glob(data + \"/**/*.png\", recursive=True)) if 'Fish_Crawlers_NonAttached' in f ])\n",
    "len(pngs)"
   ]
  },
  {
   "cell_type": "markdown",
   "metadata": {},
   "source": [
    "-----\n",
    "### Total labeled"
   ]
  },
  {
   "cell_type": "code",
   "execution_count": 10,
   "metadata": {},
   "outputs": [
    {
     "data": {
      "text/plain": [
       "1649"
      ]
     },
     "execution_count": 10,
     "metadata": {},
     "output_type": "execute_result"
    }
   ],
   "source": [
    "jpgs = set([ f for f in list(glob.glob(data + \"/**/*.jpg\", recursive=True)) if 'Labeled' in f or 'Fish_Crawlers_NonAttached' in f ])\n",
    "len(jpgs)"
   ]
  },
  {
   "cell_type": "code",
   "execution_count": 11,
   "metadata": {},
   "outputs": [
    {
     "data": {
      "text/plain": [
       "0"
      ]
     },
     "execution_count": 11,
     "metadata": {},
     "output_type": "execute_result"
    }
   ],
   "source": [
    "tifs = set([ f for f in list(glob.glob(data + \"/**/*.tif\", recursive=True)) if 'Fish_Crawlers_NonAttached' in f or 'Labeled' in f ])\n",
    "len(tifs)"
   ]
  },
  {
   "cell_type": "code",
   "execution_count": 12,
   "metadata": {},
   "outputs": [
    {
     "data": {
      "text/plain": [
       "0"
      ]
     },
     "execution_count": 12,
     "metadata": {},
     "output_type": "execute_result"
    }
   ],
   "source": [
    "pngs = set([ f for f in list(glob.glob(data + \"/**/*.tif\", recursive=True)) if 'Fish_Crawlers_NonAttached' in f or 'Labeled' in f ])\n",
    "len(pngs)"
   ]
  },
  {
   "cell_type": "code",
   "execution_count": null,
   "metadata": {},
   "outputs": [],
   "source": []
  }
 ],
 "metadata": {
  "kernelspec": {
   "display_name": "noaa",
   "language": "python",
   "name": "noaa"
  },
  "language_info": {
   "codemirror_mode": {
    "name": "ipython",
    "version": 3
   },
   "file_extension": ".py",
   "mimetype": "text/x-python",
   "name": "python",
   "nbconvert_exporter": "python",
   "pygments_lexer": "ipython3",
   "version": "3.7.9"
  }
 },
 "nbformat": 4,
 "nbformat_minor": 4
}
