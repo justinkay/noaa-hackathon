{
 "cells": [
  {
   "cell_type": "code",
   "execution_count": 11,
   "metadata": {},
   "outputs": [],
   "source": [
    "import glob\n",
    "import json"
   ]
  },
  {
   "cell_type": "code",
   "execution_count": 22,
   "metadata": {},
   "outputs": [],
   "source": [
    "loc = \"../data/\"\n",
    "labels = glob.glob(loc + \"**/**/Labeled*/**/*.json\")"
   ]
  },
  {
   "cell_type": "code",
   "execution_count": 23,
   "metadata": {},
   "outputs": [
    {
     "data": {
      "text/plain": [
       "['../data/rockfish_full/SHE-11/Labeled_8_s_1_100/export/8_stbd_1_100_Joy.json',\n",
       " '../data/rockfish_full/SHE-11/Labeled_21_s_1_100/export_1_100/export-2020-12-05T09_49_04.355Z.json',\n",
       " '../data/rockfish_full/SHE-11/Labeled_7_s_101_150/export/export-2020-12-06T06_31_45.283Z.json',\n",
       " '../data/rockfish_full/SHE-11/Labeled_3_p_1_100/export/3_port_1_100.json',\n",
       " '../data/rockfish_full/SHE-11/Labeled_17_p_1_100/export/export-2020-12-06T07_05_18.687Z.json',\n",
       " '../data/rockfish_full/SHE-11/Labeled_11_S_1_100/export/export-2020-12-06T06_37_13.628Z.json',\n",
       " '../data/rockfish_full/SHE-11/Labeled_7_s_1_100/export/export-2020-12-06T06_31_32.231Z.json']"
      ]
     },
     "execution_count": 23,
     "metadata": {},
     "output_type": "execute_result"
    }
   ],
   "source": [
    "labels"
   ]
  },
  {
   "cell_type": "code",
   "execution_count": 26,
   "metadata": {},
   "outputs": [
    {
     "name": "stdout",
     "output_type": "stream",
     "text": [
      "650 Total images\n",
      "15128 Total bboxes\n"
     ]
    }
   ],
   "source": [
    "total_ims = 0\n",
    "total_bboxes = 0\n",
    "for l in labels:\n",
    "    label_list = json.load(open(l, \"r\"))\n",
    "    total_ims += len(label_list)\n",
    "    for im in label_list:\n",
    "        bboxes = im['Label']['objects']\n",
    "        total_bboxes += len(bboxes)\n",
    "        \n",
    "print(total_ims, \"Total images\")\n",
    "print(total_bboxes, \"Total bboxes\")"
   ]
  },
  {
   "cell_type": "code",
   "execution_count": 27,
   "metadata": {},
   "outputs": [
    {
     "data": {
      "text/plain": [
       "'20111010.172736.00062_uncropped_rect_color.jpg'"
      ]
     },
     "execution_count": 27,
     "metadata": {},
     "output_type": "execute_result"
    }
   ],
   "source": [
    "label_list[0]['External ID']"
   ]
  },
  {
   "cell_type": "code",
   "execution_count": null,
   "metadata": {},
   "outputs": [],
   "source": []
  }
 ],
 "metadata": {
  "kernelspec": {
   "display_name": "noaa",
   "language": "python",
   "name": "noaa"
  },
  "language_info": {
   "codemirror_mode": {
    "name": "ipython",
    "version": 3
   },
   "file_extension": ".py",
   "mimetype": "text/x-python",
   "name": "python",
   "nbconvert_exporter": "python",
   "pygments_lexer": "ipython3",
   "version": "3.7.9"
  }
 },
 "nbformat": 4,
 "nbformat_minor": 4
}
